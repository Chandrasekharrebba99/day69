{
 "cells": [
  {
   "cell_type": "code",
   "execution_count": 2,
   "id": "3e0dac5b",
   "metadata": {},
   "outputs": [
    {
     "name": "stdout",
     "output_type": "stream",
     "text": [
      "Hello world\n"
     ]
    }
   ],
   "source": [
    "print(\"Hello world\")"
   ]
  },
  {
   "cell_type": "code",
   "execution_count": 7,
   "id": "5a732b61",
   "metadata": {},
   "outputs": [
    {
     "name": "stdout",
     "output_type": "stream",
     "text": [
      "Hello world\n"
     ]
    }
   ],
   "source": [
    "def sortarr(arr):\n",
    "    newarr = []\n",
    "    while len(arr)>0:\n",
    "        maxi = arr[0]\n",
    "        for i in range(len(arr)):\n",
    "            if arr[i]>maxi:\n",
    "                maxi = arr[i]\n",
    "        newarr.append(maxi)\n",
    "        arr.remove(maxi)\n",
    "    return newarr\n",
    "\n",
    "arr = [34,52,35,3,4,12,87,6,6,35,6,34]\n",
    "\n",
    "sortarr(arr)\n",
    "a"
   ]
  },
  {
   "cell_type": "code",
   "execution_count": null,
   "id": "0c0192e4",
   "metadata": {},
   "outputs": [],
   "source": []
  }
 ],
 "metadata": {
  "kernelspec": {
   "display_name": "Python 3 (ipykernel)",
   "language": "python",
   "name": "python3"
  },
  "language_info": {
   "codemirror_mode": {
    "name": "ipython",
    "version": 3
   },
   "file_extension": ".py",
   "mimetype": "text/x-python",
   "name": "python",
   "nbconvert_exporter": "python",
   "pygments_lexer": "ipython3",
   "version": "3.9.12"
  }
 },
 "nbformat": 4,
 "nbformat_minor": 5
}
